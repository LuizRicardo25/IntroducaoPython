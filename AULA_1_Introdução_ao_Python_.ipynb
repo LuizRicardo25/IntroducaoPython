{
  "nbformat": 4,
  "nbformat_minor": 0,
  "metadata": {
    "colab": {
      "provenance": [],
      "authorship_tag": "ABX9TyOfUj2RKgm+66cBY3SM0Jqk",
      "include_colab_link": true
    },
    "kernelspec": {
      "name": "python3",
      "display_name": "Python 3"
    },
    "language_info": {
      "name": "python"
    }
  },
  "cells": [
    {
      "cell_type": "markdown",
      "metadata": {
        "id": "view-in-github",
        "colab_type": "text"
      },
      "source": [
        "<a href=\"https://colab.research.google.com/github/LuizRicardo25/IntroducaoPython/blob/master/AULA_1_Introdu%C3%A7%C3%A3o_ao_Python_.ipynb\" target=\"_parent\"><img src=\"https://colab.research.google.com/assets/colab-badge.svg\" alt=\"Open In Colab\"/></a>"
      ]
    },
    {
      "cell_type": "markdown",
      "source": [
        "'''\n",
        "\n",
        "Lição 1 : Hello World\n",
        "\n",
        "'''\n"
      ],
      "metadata": {
        "id": "15ldTaWqmp9T"
      }
    },
    {
      "cell_type": "code",
      "source": [
        "'''\n",
        "\n",
        "Lição 1 : Hello World\n",
        "\n",
        "'''\n",
        "\n",
        "print (\"Hello World\")"
      ],
      "metadata": {
        "colab": {
          "base_uri": "https://localhost:8080/"
        },
        "id": "N0HrCjngm1BS",
        "outputId": "6ab2fff7-c1f0-4116-ff7e-e08a40b68ac5"
      },
      "execution_count": null,
      "outputs": [
        {
          "output_type": "stream",
          "name": "stdout",
          "text": [
            "Hello World\n"
          ]
        }
      ]
    },
    {
      "cell_type": "code",
      "source": [
        "nome = \"joao\"\n",
        "idade= 30\n",
        "print (f\"Idade = {idade}\")\n"
      ],
      "metadata": {
        "id": "hidm83MwfTDo",
        "outputId": "d89301d8-b8ca-4059-e976-79ebc64481e0",
        "colab": {
          "base_uri": "https://localhost:8080/"
        }
      },
      "execution_count": 6,
      "outputs": [
        {
          "output_type": "stream",
          "name": "stdout",
          "text": [
            "Idade = 30\n"
          ]
        }
      ]
    },
    {
      "cell_type": "code",
      "source": [
        "#Intrada de dados em linha de comando\n",
        "nome = input (\"Digite seu nome \")\n",
        "idade = int(input(\"Digite sua idade \"))\n",
        "\n",
        "print (f\"Ola {nome} , você tem {idade} anos de idade\")"
      ],
      "metadata": {
        "id": "BaHuLIpjhQLp",
        "outputId": "8f4a224b-c686-421d-84df-a70c4fa49fab",
        "colab": {
          "base_uri": "https://localhost:8080/"
        }
      },
      "execution_count": 7,
      "outputs": [
        {
          "output_type": "stream",
          "name": "stdout",
          "text": [
            "Digite seu nome Luiz\n",
            "Digite sua idade 51\n",
            "Ola Luiz , você tem 51 anos de idade\n"
          ]
        }
      ]
    },
    {
      "cell_type": "code",
      "source": [
        "'''\n",
        "\n",
        "Lição 2: Variáveis e Tipos de Dados\n",
        "Em Python, você pode armazenar dados em algo chamado variável.\n",
        "Uma variável pode ser um número, um texto (chamado de string), ou muitos outros tipos de dados.\n",
        "\n",
        "'''\n",
        "nome = \"João\"\n",
        "idade = 30\n",
        "altura = 1.75\n",
        "\n",
        "print (nome)"
      ],
      "metadata": {
        "colab": {
          "base_uri": "https://localhost:8080/"
        },
        "id": "okebm6FIm_G7",
        "outputId": "233dc851-4a6d-4ef0-d85d-5f7ace74fa13"
      },
      "execution_count": null,
      "outputs": [
        {
          "output_type": "stream",
          "name": "stdout",
          "text": [
            "João\n"
          ]
        }
      ]
    },
    {
      "cell_type": "code",
      "source": [
        "'''\n",
        "\n",
        "Lição 3: Operações Básicas\n",
        "Você pode realizar operações matemáticas básicas como adição, subtração, multiplicação e divisão em Python.\n",
        "\n",
        "'''\n",
        "# Adição\n",
        "soma = 10 + 5\n",
        "\n",
        "# Subtração\n",
        "diferenca = 10 - 5\n",
        "\n",
        "# Multiplicação\n",
        "produto = 10 * 5\n",
        "\n",
        "# Divisão\n",
        "quociente = 10 / 5"
      ],
      "metadata": {
        "id": "y6boV7CWnZTd"
      },
      "execution_count": null,
      "outputs": []
    },
    {
      "cell_type": "code",
      "source": [
        "'''\n",
        "\n",
        "Os operadores lógicos em Python são usados para combinar expressões condicionais.\n",
        "Existem três operadores lógicos básicos:\n",
        "\n",
        "and - Retorna True se ambas as expressões forem verdadeiras.\n",
        "or - Retorna True se pelo menos uma das expressões for verdadeira.\n",
        "not - Inverte o resultado da expressão, retorna True se a expressão for falsa.\n",
        "\n",
        "'''\n",
        "# Exemplo de operadores lógicos em Python\n",
        "\n",
        "# Vamos definir algumas variáveis\n",
        "a = True\n",
        "b = False\n",
        "c = True\n",
        "\n",
        "# Usando o operador 'and'\n",
        "resultado_and = a and c # Isso será True, pois ambas 'a' e 'c' são True\n",
        "print(\"a and c:\", resultado_and)\n",
        "\n",
        "# Usando o operador 'or'\n",
        "resultado_or = a or b # Isso será True, pois 'a' é True (mesmo 'b' sendo False)\n",
        "print(\"a or b:\", resultado_or)\n",
        "\n",
        "# Usando o operador 'not'\n",
        "resultado_not = not b # Isso será True, pois 'b' é False e 'not' inverte o resultado\n",
        "print(\"not b:\", resultado_not)\n",
        "\n",
        "# Combinando operadores\n",
        "combinado = (a and b) or c # Isso será True, pois 'c' é True (mesmo 'a and b' sendo False)\n",
        "print(\"(a and b) or c:\", combinado)\n",
        "\n"
      ],
      "metadata": {
        "colab": {
          "base_uri": "https://localhost:8080/"
        },
        "id": "qoJ58JytoBsF",
        "outputId": "a8bc6f0f-2faf-49e5-c6ba-7627f8f880ec"
      },
      "execution_count": null,
      "outputs": [
        {
          "output_type": "stream",
          "name": "stdout",
          "text": [
            "a and c: True\n",
            "a or b: True\n",
            "not b: True\n",
            "(a and b) or c: True\n"
          ]
        }
      ]
    },
    {
      "cell_type": "markdown",
      "source": [
        "'''\n",
        "Instruções Condicionais\n",
        "if\n",
        "O if é a instrução condicional básica que executa um bloco de código se a condição for verdadeira.\n",
        "'''\n",
        "\n",
        "if condição:\n",
        "    # bloco de código executado se a condição for verdadeira\n",
        "    \n",
        "'''\n",
        "elif\n",
        "elif é a abreviação de \"else if\". Ele permite verificar várias expressões.\n",
        "'''\n",
        "\n",
        "if primeira_condição:\n",
        "    # bloco de código executado se a primeira_condição for verdadeira\n",
        "elif segunda_condição:\n",
        "    # bloco de código executado se a segunda_condição for verdadeira\n",
        "    \n",
        "'''\n",
        "else\n",
        "else captura qualquer coisa que não foi capturada pelas condições anteriores.\n",
        "'''\n",
        "if condição:\n",
        "    # bloco de código executado se a condição for verdadeira\n",
        "else:\n",
        "    # bloco de código executado se a condição for falsa\n",
        "\n",
        "'''\n",
        "Loops\n",
        "for\n",
        "O loop for é usado para iterar sobre uma sequência (como uma lista, tupla, dicionário, conjunto ou string).\n",
        "'''\n",
        "\n",
        "for elemento in sequência:\n",
        "    # bloco de código para cada elemento na sequência\n",
        "\n",
        "'''\n",
        "while\n",
        "O loop while executa um conjunto de instruções enquanto uma condição é verdadeira.\n",
        "'''\n",
        "\n",
        "while condição:\n",
        "    # bloco de código executado enquanto a condição for verdadeira"
      ],
      "metadata": {
        "id": "IUTraVKpr0F-"
      }
    },
    {
      "cell_type": "code",
      "source": [],
      "metadata": {
        "id": "6TmbQ-BAra2N"
      },
      "execution_count": null,
      "outputs": []
    },
    {
      "source": [
        "# Verifique se o número é positivo\n",
        "numero = 10\n",
        "if numero > 0:\n",
        "    print(\"O número é positivo\")"
      ],
      "cell_type": "code",
      "metadata": {
        "id": "U9QCj4aSsGrK"
      },
      "execution_count": null,
      "outputs": []
    },
    {
      "source": [
        "# Verifique se o número é positivo, negativo ou zero\n",
        "numero = 0\n",
        "if numero > 0:\n",
        "    print(\"O número é positivo\")\n",
        "elif numero < 0:\n",
        "    print(\"O número é negativo\")\n",
        "else:\n",
        "    print(\"O número é zero\")"
      ],
      "cell_type": "code",
      "metadata": {
        "id": "pzZmrFYEsIWx"
      },
      "execution_count": null,
      "outputs": []
    },
    {
      "source": [
        "# Verifique se o número é par ou ímpar\n",
        "numero = 11\n",
        "if numero % 2 == 0:\n",
        "    print(\"O número é par\")\n",
        "else:\n",
        "    print(\"O número é ímpar\")"
      ],
      "cell_type": "code",
      "metadata": {
        "colab": {
          "base_uri": "https://localhost:8080/"
        },
        "id": "ZRKcVX5tsKMh",
        "outputId": "a341f6fd-22c3-4bfa-eb84-99bd6360582d"
      },
      "execution_count": null,
      "outputs": [
        {
          "output_type": "stream",
          "name": "stdout",
          "text": [
            "O número é ímpar\n"
          ]
        }
      ]
    },
    {
      "source": [
        "# Verifique se o número é positivo, negativo ou zero e se é par ou ímpar\n",
        "numero = -10\n",
        "if numero > 0:\n",
        "    if numero % 2 == 0:\n",
        "        print(\"O número é positivo e par\")\n",
        "    else:\n",
        "        print(\"O número é positivo e ímpar\")\n",
        "elif numero < 0:\n",
        "    if numero % 2 == 0:\n",
        "        print(\"O número é negativo e par\")\n",
        "    else:\n",
        "        print(\"O número é negativo e ímpar\")\n",
        "else:\n",
        "    print(\"O número é zero\")"
      ],
      "cell_type": "code",
      "metadata": {
        "colab": {
          "base_uri": "https://localhost:8080/"
        },
        "id": "kDH_ROozsLeK",
        "outputId": "541eb8c1-79d1-4bc5-a4f6-85a89f7f7836"
      },
      "execution_count": null,
      "outputs": [
        {
          "output_type": "stream",
          "name": "stdout",
          "text": [
            "O número é negativo e par\n"
          ]
        }
      ]
    },
    {
      "cell_type": "code",
      "source": [
        "'''\n",
        "Instruções Condicionais\n",
        "\n",
        "'''\n",
        "\n",
        "# Exemplo de Estruturas de Controle de Fluxo\n",
        "\n",
        "# Loop com for e if\n",
        "for i in range(1, 11):  # Loop de 1 a 10\n",
        "    if i % 2 == 0:\n",
        "        print(f\"{i} é par\")\n",
        "    else:\n",
        "        print(f\"{i} é ímpar\")\n",
        "\n",
        "# Loop com while\n",
        "contador = 0\n",
        "while contador < 5:\n",
        "    print(f\"Contador é {contador}\")\n",
        "    contador += 1"
      ],
      "metadata": {
        "colab": {
          "base_uri": "https://localhost:8080/"
        },
        "id": "Ig6cEEcusd-w",
        "outputId": "97da7bb5-ecac-4f14-872c-e201a85b5477"
      },
      "execution_count": 5,
      "outputs": [
        {
          "output_type": "stream",
          "name": "stdout",
          "text": [
            "1 é ímpar\n",
            "2 é par\n",
            "3 é ímpar\n",
            "4 é par\n",
            "5 é ímpar\n",
            "6 é par\n",
            "7 é ímpar\n",
            "8 é par\n",
            "9 é ímpar\n",
            "10 é par\n",
            "Contador é 0\n",
            "Contador é 1\n",
            "Contador é 2\n",
            "Contador é 3\n",
            "Contador é 4\n"
          ]
        }
      ]
    }
  ]
}