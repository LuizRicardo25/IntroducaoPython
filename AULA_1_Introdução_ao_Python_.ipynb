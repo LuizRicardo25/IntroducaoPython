{
  "nbformat": 4,
  "nbformat_minor": 0,
  "metadata": {
    "colab": {
      "provenance": [],
      "authorship_tag": "ABX9TyPyiXOXaBAKaSEM6gtK2ykO",
      "include_colab_link": true
    },
    "kernelspec": {
      "name": "python3",
      "display_name": "Python 3"
    },
    "language_info": {
      "name": "python"
    }
  },
  "cells": [
    {
      "cell_type": "markdown",
      "metadata": {
        "id": "view-in-github",
        "colab_type": "text"
      },
      "source": [
        "<a href=\"https://colab.research.google.com/github/LuizRicardo25/IntroducaoPython/blob/master/AULA_1_Introdu%C3%A7%C3%A3o_ao_Python_.ipynb\" target=\"_parent\"><img src=\"https://colab.research.google.com/assets/colab-badge.svg\" alt=\"Open In Colab\"/></a>"
      ]
    },
    {
      "cell_type": "markdown",
      "source": [
        "'''\n",
        "\n",
        "Lição 1 : Hello World\n",
        "\n",
        "'''\n"
      ],
      "metadata": {
        "id": "15ldTaWqmp9T"
      }
    },
    {
      "cell_type": "code",
      "source": [
        "'''\n",
        "\n",
        "Lição 1 : Hello World\n",
        "\n",
        "'''\n",
        "\n",
        "print (\"Hello World\")"
      ],
      "metadata": {
        "colab": {
          "base_uri": "https://localhost:8080/"
        },
        "id": "N0HrCjngm1BS",
        "outputId": "6ab2fff7-c1f0-4116-ff7e-e08a40b68ac5"
      },
      "execution_count": 9,
      "outputs": [
        {
          "output_type": "stream",
          "name": "stdout",
          "text": [
            "Hello World\n"
          ]
        }
      ]
    },
    {
      "cell_type": "code",
      "source": [
        "'''\n",
        "\n",
        "Lição 2: Variáveis e Tipos de Dados\n",
        "Em Python, você pode armazenar dados em algo chamado variável.\n",
        "Uma variável pode ser um número, um texto (chamado de string), ou muitos outros tipos de dados.\n",
        "\n",
        "'''\n",
        "nome = \"João\"\n",
        "idade = 30\n",
        "altura = 1.75\n",
        "\n",
        "print (nome)"
      ],
      "metadata": {
        "colab": {
          "base_uri": "https://localhost:8080/"
        },
        "id": "okebm6FIm_G7",
        "outputId": "233dc851-4a6d-4ef0-d85d-5f7ace74fa13"
      },
      "execution_count": 11,
      "outputs": [
        {
          "output_type": "stream",
          "name": "stdout",
          "text": [
            "João\n"
          ]
        }
      ]
    },
    {
      "cell_type": "code",
      "source": [
        "'''\n",
        "\n",
        "Lição 3: Operações Básicas\n",
        "Você pode realizar operações matemáticas básicas como adição, subtração, multiplicação e divisão em Python.\n",
        "\n",
        "'''\n",
        "# Adição\n",
        "soma = 10 + 5\n",
        "\n",
        "# Subtração\n",
        "diferenca = 10 - 5\n",
        "\n",
        "# Multiplicação\n",
        "produto = 10 * 5\n",
        "\n",
        "# Divisão\n",
        "quociente = 10 / 5"
      ],
      "metadata": {
        "id": "y6boV7CWnZTd"
      },
      "execution_count": null,
      "outputs": []
    },
    {
      "cell_type": "code",
      "source": [
        "'''\n",
        "\n",
        "Os operadores lógicos em Python são usados para combinar expressões condicionais.\n",
        "Existem três operadores lógicos básicos:\n",
        "\n",
        "and - Retorna True se ambas as expressões forem verdadeiras.\n",
        "or - Retorna True se pelo menos uma das expressões for verdadeira.\n",
        "not - Inverte o resultado da expressão, retorna True se a expressão for falsa.\n",
        "\n",
        "'''\n",
        "# Exemplo de operadores lógicos em Python\n",
        "\n",
        "# Vamos definir algumas variáveis\n",
        "a = True\n",
        "b = False\n",
        "c = True\n",
        "\n",
        "# Usando o operador 'and'\n",
        "resultado_and = a and c # Isso será True, pois ambas 'a' e 'c' são True\n",
        "print(\"a and c:\", resultado_and)\n",
        "\n",
        "# Usando o operador 'or'\n",
        "resultado_or = a or b # Isso será True, pois 'a' é True (mesmo 'b' sendo False)\n",
        "print(\"a or b:\", resultado_or)\n",
        "\n",
        "# Usando o operador 'not'\n",
        "resultado_not = not b # Isso será True, pois 'b' é False e 'not' inverte o resultado\n",
        "print(\"not b:\", resultado_not)\n",
        "\n",
        "# Combinando operadores\n",
        "combinado = (a and b) or c # Isso será True, pois 'c' é True (mesmo 'a and b' sendo False)\n",
        "print(\"(a and b) or c:\", combinado)\n",
        "\n"
      ],
      "metadata": {
        "colab": {
          "base_uri": "https://localhost:8080/"
        },
        "id": "qoJ58JytoBsF",
        "outputId": "d2ff3861-baf2-413e-b4ac-8acd17adb317"
      },
      "execution_count": 12,
      "outputs": [
        {
          "output_type": "stream",
          "name": "stdout",
          "text": [
            "a and c: True\n",
            "a or b: True\n",
            "not b: True\n",
            "(a and b) or c: True\n"
          ]
        }
      ]
    }
  ]
}